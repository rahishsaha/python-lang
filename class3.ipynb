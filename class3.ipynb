{
 "cells": [
  {
   "cell_type": "code",
   "execution_count": null,
   "id": "db485660",
   "metadata": {},
   "outputs": [],
   "source": [
    "sallary=int(input('Enter your sallary'))\n",
    "service=int(input('Enter your service year'))\n",
    "if service > 5:\n",
    "    bonus=(sallary*5)/100\n",
    "    print('you will get bonus of 5%',bonus)\n",
    "else:\n",
    "    print('you will not entitled to bonus')\n"
   ]
  },
  {
   "cell_type": "code",
   "execution_count": null,
   "id": "f5cbf24c",
   "metadata": {},
   "outputs": [],
   "source": [
    "l=int(input('Enter the length'))\n",
    "b=int(input('Enter the breadth'))\n",
    "if l==b:\n",
    "    print('it is square')\n",
    "else:\n",
    "    print('it is rectangle')"
   ]
  },
  {
   "cell_type": "code",
   "execution_count": null,
   "id": "3b25e096",
   "metadata": {},
   "outputs": [],
   "source": [
    "l=float(input('Enter the length'))\n",
    "b=float(input('Enter the breadth'))\n",
    "if l==b:\n",
    "    print('it is square')\n",
    "else:\n",
    "    print('it is rectangle')"
   ]
  },
  {
   "cell_type": "code",
   "execution_count": null,
   "id": "cdb21b64",
   "metadata": {},
   "outputs": [],
   "source": [
    "first_number=float(input('Enter the first number'))\n",
    "second_number=float(input('Enter the second number'))\n",
    "third_number=float(input('Enter the third number'))\n",
    "if first_number> second_number and first_number> third_number:\n",
    "    print('first number is greater')\n",
    "elif second_number>first_number and second_number>third_number:\n",
    "    print('second number is greater')\n",
    "elif third_number>first_number and third_number>second_number:\n",
    "    print ('third number is greater')\n",
    "else:\n",
    "    print('all number are equal')"
   ]
  },
  {
   "cell_type": "code",
   "execution_count": 1,
   "id": "c406c67f",
   "metadata": {},
   "outputs": [
    {
     "name": "stdout",
     "output_type": "stream",
     "text": [
      "how many quantity you want to purchase1200\n",
      "you will get 5% discount 12000.0\n",
      "user will pay after discount 108000.0\n"
     ]
    }
   ],
   "source": [
    "#A shop will give discount of 10% if the cost of purchased quantity is more than 1000.\n",
    "#Ask user for quantitySuppose, one unit will cost 100.Judge and print total cost for user\n",
    "Number_of_quantity=int(input('how many quantity you want to purchase'))\n",
    "if Number_of_quantity>1000:\n",
    "    total_cost=Number_of_quantity*100\n",
    "    discount=(total_cost*10)/100\n",
    "    price_after_discount = total_cost-discount\n",
    "    print('you will get 5% discount',discount)\n",
    "    print('user will pay after discount',price_after_discount)\n",
    "else:\n",
    "    print('no discount available')"
   ]
  },
  {
   "cell_type": "code",
   "execution_count": 8,
   "id": "576378f9",
   "metadata": {},
   "outputs": [
    {
     "name": "stdout",
     "output_type": "stream",
     "text": [
      "Enter your obtained marks60\n",
      "your grade is B\n"
     ]
    }
   ],
   "source": [
    "#A school has following rules for grading system:below 25 fail\n",
    "#b. 25 to 45 - E\n",
    "#c. 45 to 50 - D\n",
    "#d. 50 to 60 - C\n",
    "#e. 60 to 80 - B\n",
    "#f. Above 80 - A\n",
    "#Ask user to enter marks and print the corresponding grade.\n",
    "Marks=float(input('Enter your obtained marks'))\n",
    "if Marks<25:\n",
    "    print('you are fail')\n",
    "elif Marks>=25 and Marks<45:\n",
    "    print('your grade is E')\n",
    "elif Marks>=45 and Marks<50:\n",
    "    print('your grade is D')\n",
    "elif Marks>=50 and Marks<60:\n",
    "    print('your grade is C')\n",
    "elif Marks>=60 and Marks<80:\n",
    "    print('your grade is B')\n",
    "else:\n",
    "    print('your grade is A')\n",
    "\n",
    "\n"
   ]
  },
  {
   "cell_type": "code",
   "execution_count": null,
   "id": "36dd1ab9",
   "metadata": {},
   "outputs": [],
   "source": [
    "#A student will not be allowed to sit in exam if his/her attendence is less than 75%.\n",
    "#Take following input from user\n",
    "#Number of classes held.Number of classes attended.And print percentage of class attended\n",
    "#Is student is allowed to sit in exam or not.\n",
    "Number_of_classes_held=int(input('How many total classes held?'))\n",
    "Number_of_classes_attended=int(input('How many total classes have you attended?'))\n",
    "print('percentage_of_classes_attended',(Number_of_classes_attended/Number_of_classes_held)*100)\n",
    "\n",
    "\n",
    "\n"
   ]
  },
  {
   "cell_type": "code",
   "execution_count": 15,
   "id": "b0b7e20c",
   "metadata": {},
   "outputs": [
    {
     "name": "stdout",
     "output_type": "stream",
     "text": [
      "How many total classes held?25\n",
      "How many total classes have you attended?20\n",
      "percentage_of_classes_attended 80.0\n",
      "you will  be allowed to sit in exam\n"
     ]
    }
   ],
   "source": [
    "#A student will not be allowed to sit in exam if his/her attendence is less than 75%.\n",
    "#Take following input from user\n",
    "#Number of classes held.Number of classes attended.And print percentage of class attended\n",
    "#Is student is allowed to sit in exam or not.\n",
    "Number_of_classes_held=int(input('How many total classes held?'))\n",
    "Number_of_classes_attended=int(input('How many total classes have you attended?'))\n",
    "percentage_of_classes_attended=float(Number_of_classes_attended/Number_of_classes_held)*100\n",
    "print('percentage_of_classes_attended',(Number_of_classes_attended/Number_of_classes_held)*100)\n",
    "if percentage_of_classes_attended<75:\n",
    "    print('you will not be allowed to sit in exam')\n",
    "else:\n",
    "    print('you will  be allowed to sit in exam')"
   ]
  },
  {
   "cell_type": "code",
   "execution_count": 20,
   "id": "42cb5c4a",
   "metadata": {},
   "outputs": [
    {
     "name": "stdout",
     "output_type": "stream",
     "text": [
      "How many total classes held?100\n",
      "How many total classes have you attended?23\n",
      "if he/she has medical causeyes\n",
      "percentage_of_classes_attended 23.0\n",
      "Allowed due to medical cause\n"
     ]
    }
   ],
   "source": [
    "#Modify the above question to allow student to sit if he/she has medical cause. \n",
    "#Ask user if he/she has medical cause or not ( 'Y' or 'N' ) and print accordingly.\n",
    "Number_of_classes_held=int(input('How many total classes held?'))\n",
    "Number_of_classes_attended=int(input('How many total classes have you attended?'))\n",
    "medical_cause = 'yes'\n",
    "medical_cause=input('if he/she has medical cause')\n",
    "percentage_of_classes_attended=float(Number_of_classes_attended/Number_of_classes_held)*100\n",
    "print('percentage_of_classes_attended',(Number_of_classes_attended/Number_of_classes_held)*100)\n",
    "if percentage_of_classes_attended>75:\n",
    "    print('you will  be allowed to sit in exam') \n",
    "\n",
    "elif percentage_of_classes_attended < 75 :\n",
    "    if medical_cause == 'yes':\n",
    "        print('Allowed due to medical cause')\n",
    "    else:\n",
    "        print('Not allowed-----No medical cause')\n",
    "    \n",
    "else:\n",
    "    print('you will not be allowed to sit in exam')\n"
   ]
  },
  {
   "cell_type": "code",
   "execution_count": 9,
   "id": "9871917c",
   "metadata": {},
   "outputs": [
    {
     "name": "stdout",
     "output_type": "stream",
     "text": [
      "Enter the first number12\n",
      "Enter the second number12\n"
     ]
    }
   ],
   "source": [
    "#write a program to swap two no.  with \n",
    "#and without help of temp. variable\n",
    "first_number=float(input('Enter the first number'))\n",
    "second_number=float(input('Enter the second number'))\n",
    "\n",
    "\n"
   ]
  },
  {
   "cell_type": "code",
   "execution_count": 11,
   "id": "b6a4a66e",
   "metadata": {},
   "outputs": [
    {
     "name": "stdout",
     "output_type": "stream",
     "text": [
      "45\n"
     ]
    }
   ],
   "source": [
    "#write a program to swap two no.  with \n",
    "#and without help of temp. variable\n",
    "a=20\n",
    "b=45\n",
    "c = a\n",
    "a = b\n",
    "b = c\n",
    "print(a)"
   ]
  },
  {
   "cell_type": "code",
   "execution_count": 12,
   "id": "871877b9",
   "metadata": {},
   "outputs": [
    {
     "name": "stdout",
     "output_type": "stream",
     "text": [
      "20\n"
     ]
    }
   ],
   "source": [
    "print(b)"
   ]
  },
  {
   "cell_type": "code",
   "execution_count": 13,
   "id": "27ff276a",
   "metadata": {},
   "outputs": [
    {
     "name": "stdout",
     "output_type": "stream",
     "text": [
      "45\n"
     ]
    }
   ],
   "source": [
    "#write a program to swap two no.  with \n",
    "#and without help of temp. variable\n",
    "a = 20\n",
    "b = 45\n",
    "a,b = b,a\n",
    "print(a)"
   ]
  },
  {
   "cell_type": "code",
   "execution_count": 14,
   "id": "73da5783",
   "metadata": {},
   "outputs": [
    {
     "name": "stdout",
     "output_type": "stream",
     "text": [
      "20\n"
     ]
    }
   ],
   "source": [
    "print(b)"
   ]
  },
  {
   "cell_type": "code",
   "execution_count": null,
   "id": "b1839cd5",
   "metadata": {},
   "outputs": [],
   "source": []
  }
 ],
 "metadata": {
  "kernelspec": {
   "display_name": "Python 3 (ipykernel)",
   "language": "python",
   "name": "python3"
  },
  "language_info": {
   "codemirror_mode": {
    "name": "ipython",
    "version": 3
   },
   "file_extension": ".py",
   "mimetype": "text/x-python",
   "name": "python",
   "nbconvert_exporter": "python",
   "pygments_lexer": "ipython3",
   "version": "3.9.7"
  }
 },
 "nbformat": 4,
 "nbformat_minor": 5
}
